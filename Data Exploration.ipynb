{
 "cells": [
  {
   "cell_type": "code",
   "execution_count": null,
   "metadata": {},
   "outputs": [],
   "source": []
  },
  {
   "cell_type": "code",
   "execution_count": 27,
   "metadata": {},
   "outputs": [
    {
     "data": {
      "text/plain": [
       "<module 'basic.made_utils' from 'C:\\\\Users\\\\u0752374\\\\projects\\\\MADE_relations\\\\basic\\\\made_utils.py'>"
      ]
     },
     "execution_count": 27,
     "metadata": {},
     "output_type": "execute_result"
    }
   ],
   "source": [
    "from basic import annotation, made_utils\n",
    "from importlib import reload\n",
    "\n",
    "from collections import defaultdict\n",
    "\n",
    "from basic.annotation import *\n",
    "reload(made_utils)"
   ]
  },
  {
   "cell_type": "code",
   "execution_count": 28,
   "metadata": {},
   "outputs": [],
   "source": []
  },
  {
   "cell_type": "code",
   "execution_count": 21,
   "metadata": {},
   "outputs": [],
   "source": [
    "reader = made_utils.TextAndBioCParser()"
   ]
  },
  {
   "cell_type": "code",
   "execution_count": 72,
   "metadata": {},
   "outputs": [
    {
     "name": "stdout",
     "output_type": "stream",
     "text": [
      "0/876\n",
      "25/876\n",
      "50/876\n",
      "75/876\n",
      "100/876\n",
      "125/876\n",
      "150/876\n",
      "175/876\n",
      "200/876\n",
      "225/876\n",
      "250/876\n",
      "275/876\n",
      "300/876\n",
      "325/876\n",
      "350/876\n",
      "375/876\n",
      "400/876\n",
      "425/876\n",
      "450/876\n",
      "475/876\n",
      "500/876\n",
      "525/876\n",
      "550/876\n",
      "575/876\n",
      "600/876\n",
      "625/876\n",
      "650/876\n",
      "675/876\n",
      "700/876\n",
      "725/876\n",
      "750/876\n",
      "775/876\n",
      "800/876\n",
      "825/876\n",
      "850/876\n",
      "875/876\n"
     ]
    }
   ],
   "source": [
    "docs = reader.read_texts_and_xmls(num_docs=-1)"
   ]
  },
  {
   "cell_type": "markdown",
   "metadata": {},
   "source": [
    "How many documents, entities, and relations?"
   ]
  },
  {
   "cell_type": "code",
   "execution_count": 39,
   "metadata": {},
   "outputs": [],
   "source": []
  },
  {
   "cell_type": "code",
   "execution_count": 106,
   "metadata": {},
   "outputs": [
    {
     "name": "stdout",
     "output_type": "stream",
     "text": [
      "0\n",
      "100\n",
      "200\n",
      "300\n",
      "400\n",
      "500\n",
      "600\n",
      "700\n",
      "800\n",
      "defaultdict(<class 'int'>, {'num_docs': 876, 'num_entities': 67781, 'num_relations': 23165, 'num_entity_types': 9, 'num_relationship_types': 17})\n",
      "defaultdict(<class 'int'>, {'Drug => Route': 2544, 'Drug => Indication': 4530, 'SSLIF => Severity': 2909, 'Drug => Dose': 5150, 'Drug => Frequency': 4407, 'Drug => Duration': 901, 'Drug => ADE': 2055, 'ADE => Severity': 282, 'Dose => Dose': 27, 'Indication => Severity': 269, 'Indication => Indication': 24, 'Severity => Severity': 16, 'ADE => ADE': 23, 'Duration => Duration': 5, 'Route => Route': 7, 'SSLIF => ADE': 4, 'Frequency => Frequency': 12})\n",
      "defaultdict(<class 'dict'>, {'Drug': {'Route': 2544, 'Indication': 4530, 'Dose': 5150, 'Frequency': 4407, 'Duration': 901, 'ADE': 2055}, 'SSLIF': {'Severity': 2909, 'ADE': 4}, 'ADE': {'Severity': 282, 'ADE': 23}, 'Dose': {'Dose': 27}, 'Indication': {'Severity': 269, 'Indication': 24}, 'Severity': {'Severity': 16}, 'Duration': {'Duration': 5}, 'Route': {'Route': 7}, 'Frequency': {'Frequency': 12}})\n"
     ]
    }
   ],
   "source": [
    "info = defaultdict(int)\n",
    "entity_types = defaultdict(int)\n",
    "relation_types = defaultdict(int)\n",
    "\n",
    "type_relations = defaultdict(int) # entity => entity\n",
    "type_has_out_edge_to = defaultdict(dict)\n",
    "\n",
    "for i, doc in enumerate(docs.values()):\n",
    "    if i % 100 == 0:\n",
    "        print(i)\n",
    "    # How many documents, entities, and relations?\n",
    "    info['num_docs'] += 1\n",
    "    info['num_entities'] += len(doc.bioc_annotations)\n",
    "    info['num_relations'] += len(doc.bioc_relations)\n",
    "    \n",
    "    # How many distinct type -> type relations?\n",
    "    for relation in doc.relations:\n",
    "        type1, type2 = relation.entity_types\n",
    "        entity_types[type1] += 1\n",
    "        entity_types[type2] += 1\n",
    "      \n",
    "        type_relations[' => '.join((type1, type2))] += 1\n",
    "        \n",
    "        if type2 in type_has_out_edge_to[type1]:\n",
    "            type_has_out_edge_to[type1][type2] += 1\n",
    "        else:\n",
    "            type_has_out_edge_to[type1][type2] = 1\n",
    "            \n",
    "info['num_entity_types'] = len(entity_types)\n",
    "info['num_relationship_types'] = len(type_relations)\n",
    "# What types are never connected?\n",
    "\n",
    "types_not_connected = []\n",
    "\n",
    "for type1 in entity_types:\n",
    "    for type2 in entity_types:\n",
    "        if (type1, type2) not in type_relations:\n",
    "            types_not_connected.append(' => '.join((type1, type2)))\n",
    "        if (type2, type1) not in type_relations:\n",
    "            types_not_connected.append(' => '.join((type2, type1)))\n",
    "\n",
    "print(info)\n",
    "print(type_relations)\n",
    "print(type_has_out_edge_to)"
   ]
  },
  {
   "cell_type": "code",
   "execution_count": 108,
   "metadata": {},
   "outputs": [
    {
     "data": {
      "text/plain": [
       "{'ADE => ADE',\n",
       " 'ADE => Dose',\n",
       " 'ADE => Drug',\n",
       " 'ADE => Duration',\n",
       " 'ADE => Frequency',\n",
       " 'ADE => Indication',\n",
       " 'ADE => Route',\n",
       " 'ADE => SSLIF',\n",
       " 'ADE => Severity',\n",
       " 'Dose => ADE',\n",
       " 'Dose => Dose',\n",
       " 'Dose => Drug',\n",
       " 'Dose => Duration',\n",
       " 'Dose => Frequency',\n",
       " 'Dose => Indication',\n",
       " 'Dose => Route',\n",
       " 'Dose => SSLIF',\n",
       " 'Dose => Severity',\n",
       " 'Drug => ADE',\n",
       " 'Drug => Dose',\n",
       " 'Drug => Drug',\n",
       " 'Drug => Duration',\n",
       " 'Drug => Frequency',\n",
       " 'Drug => Indication',\n",
       " 'Drug => Route',\n",
       " 'Drug => SSLIF',\n",
       " 'Drug => Severity',\n",
       " 'Duration => ADE',\n",
       " 'Duration => Dose',\n",
       " 'Duration => Drug',\n",
       " 'Duration => Duration',\n",
       " 'Duration => Frequency',\n",
       " 'Duration => Indication',\n",
       " 'Duration => Route',\n",
       " 'Duration => SSLIF',\n",
       " 'Duration => Severity',\n",
       " 'Frequency => ADE',\n",
       " 'Frequency => Dose',\n",
       " 'Frequency => Drug',\n",
       " 'Frequency => Duration',\n",
       " 'Frequency => Frequency',\n",
       " 'Frequency => Indication',\n",
       " 'Frequency => Route',\n",
       " 'Frequency => SSLIF',\n",
       " 'Frequency => Severity',\n",
       " 'Indication => ADE',\n",
       " 'Indication => Dose',\n",
       " 'Indication => Drug',\n",
       " 'Indication => Duration',\n",
       " 'Indication => Frequency',\n",
       " 'Indication => Indication',\n",
       " 'Indication => Route',\n",
       " 'Indication => SSLIF',\n",
       " 'Indication => Severity',\n",
       " 'Route => ADE',\n",
       " 'Route => Dose',\n",
       " 'Route => Drug',\n",
       " 'Route => Duration',\n",
       " 'Route => Frequency',\n",
       " 'Route => Indication',\n",
       " 'Route => Route',\n",
       " 'Route => SSLIF',\n",
       " 'Route => Severity',\n",
       " 'SSLIF => ADE',\n",
       " 'SSLIF => Dose',\n",
       " 'SSLIF => Drug',\n",
       " 'SSLIF => Duration',\n",
       " 'SSLIF => Frequency',\n",
       " 'SSLIF => Indication',\n",
       " 'SSLIF => Route',\n",
       " 'SSLIF => SSLIF',\n",
       " 'SSLIF => Severity',\n",
       " 'Severity => ADE',\n",
       " 'Severity => Dose',\n",
       " 'Severity => Drug',\n",
       " 'Severity => Duration',\n",
       " 'Severity => Frequency',\n",
       " 'Severity => Indication',\n",
       " 'Severity => Route',\n",
       " 'Severity => SSLIF',\n",
       " 'Severity => Severity'}"
      ]
     },
     "execution_count": 108,
     "metadata": {},
     "output_type": "execute_result"
    }
   ],
   "source": [
    "set(types_not_connected)"
   ]
  },
  {
   "cell_type": "code",
   "execution_count": 112,
   "metadata": {
    "scrolled": true
   },
   "outputs": [
    {
     "name": "stdout",
     "output_type": "stream",
     "text": [
      "# of documents: 876\n",
      "Total # of entities: 67781\n",
      "Total # relations: 23165\n",
      "# unique entity types: 9\n",
      "# unique relations: 17\n",
      "\n",
      "Most common edges: \n",
      "\t('Drug => Dose', 5150)\n",
      "\t('Drug => Indication', 4530)\n",
      "\t('Drug => Frequency', 4407)\n",
      "\t('SSLIF => Severity', 2909)\n",
      "\t('Drug => Route', 2544)\n",
      "\t('Drug => ADE', 2055)\n",
      "\t('Drug => Duration', 901)\n",
      "\t('ADE => Severity', 282)\n",
      "\t('Indication => Severity', 269)\n",
      "\t('Dose => Dose', 27)\n",
      "\t('Indication => Indication', 24)\n",
      "\t('ADE => ADE', 23)\n",
      "\t('Severity => Severity', 16)\n",
      "\t('Frequency => Frequency', 12)\n",
      "\t('Route => Route', 7)\n",
      "\t('Duration => Duration', 5)\n",
      "\t('SSLIF => ADE', 4)\n",
      "\n",
      "Most common entities: \n",
      "\t('Drug', 19587)\n",
      "\t('Dose', 5204)\n",
      "\t('Indication', 4847)\n",
      "\t('Frequency', 4431)\n",
      "\t('Severity', 3492)\n",
      "\t('SSLIF', 2913)\n",
      "\t('Route', 2558)\n",
      "\t('ADE', 2387)\n",
      "\t('Duration', 911)\n",
      "\n",
      "Impossible edges: \n",
      "\tSeverity => Severity\n",
      "\tDrug => Drug\n",
      "\tIndication => ADE\n",
      "\tADE => Drug\n",
      "\tFrequency => Route\n",
      "\tSeverity => Frequency\n",
      "\tADE => Severity\n",
      "\tSSLIF => Route\n",
      "\tDose => Severity\n",
      "\tDuration => Indication\n",
      "\tADE => ADE\n",
      "\tSeverity => Drug\n",
      "\tRoute => Dose\n",
      "\tIndication => Indication\n",
      "\tRoute => SSLIF\n",
      "\tIndication => Frequency\n",
      "\tDose => Frequency\n",
      "\tRoute => Indication\n",
      "\tDrug => ADE\n",
      "\tFrequency => Dose\n",
      "\tDuration => Dose\n",
      "\tDose => Route\n",
      "\tDuration => Frequency\n",
      "\tSSLIF => Drug\n",
      "\tDuration => Route\n",
      "\tRoute => Severity\n",
      "\tSeverity => Indication\n",
      "\tSeverity => Duration\n",
      "\tFrequency => Indication\n",
      "\tIndication => Drug\n",
      "\tSeverity => Route\n",
      "\tRoute => ADE\n",
      "\tFrequency => Drug\n",
      "\tIndication => SSLIF\n",
      "\tSeverity => ADE\n",
      "\tFrequency => ADE\n",
      "\tDrug => SSLIF\n",
      "\tDrug => Route\n",
      "\tSSLIF => ADE\n",
      "\tSSLIF => Duration\n",
      "\tFrequency => SSLIF\n",
      "\tSeverity => Dose\n",
      "\tSSLIF => Frequency\n",
      "\tDrug => Indication\n",
      "\tDose => Duration\n",
      "\tIndication => Dose\n",
      "\tSSLIF => Indication\n",
      "\tFrequency => Frequency\n",
      "\tDuration => Duration\n",
      "\tDose => SSLIF\n",
      "\tIndication => Severity\n",
      "\tDuration => ADE\n",
      "\tSSLIF => Dose\n",
      "\tDrug => Duration\n",
      "\tDuration => Severity\n",
      "\tDrug => Severity\n",
      "\tFrequency => Severity\n",
      "\tADE => Frequency\n",
      "\tFrequency => Duration\n",
      "\tADE => Route\n",
      "\tRoute => Duration\n",
      "\tDrug => Dose\n",
      "\tIndication => Duration\n",
      "\tADE => SSLIF\n",
      "\tADE => Indication\n",
      "\tSSLIF => Severity\n",
      "\tDuration => SSLIF\n",
      "\tDose => Dose\n",
      "\tSSLIF => SSLIF\n",
      "\tSeverity => SSLIF\n",
      "\tDuration => Drug\n",
      "\tIndication => Route\n",
      "\tADE => Dose\n",
      "\tRoute => Drug\n",
      "\tADE => Duration\n",
      "\tDrug => Frequency\n",
      "\tRoute => Route\n",
      "\tRoute => Frequency\n",
      "\tDose => ADE\n",
      "\tDose => Drug\n",
      "\tDose => Indication\n"
     ]
    }
   ],
   "source": [
    "string = \"# of documents: {num_docs}\\nTotal # of entities: {num_entities}\\nTotal # relations: {num_relations}\\n# unique entity types: {num_entity_types}\\n# unique relations: {num_relationship_types}\\n\\n\".format(**info)\n",
    "string += \"Most common edges: \\n\\t{}\".format('\\n\\t'.join([str(tup) for tup in \n",
    "                                    sorted(type_relations.items(), key=lambda x:x[1], reverse=True)]))\n",
    "\n",
    "\n",
    "string += \"\\n\\n\"\n",
    "string += \"Most common entities: \\n\\t{}\".format('\\n\\t'.join(\n",
    "                    [str(tup) for tup in \n",
    "                    sorted(entity_types.items(), key=lambda x:x[1], reverse=True)]\n",
    "                ))\n",
    "string += \"\\n\\n\"\n",
    "string += \"Impossible edges: \\n\\t{}\".format('\\n\\t'.join(set(types_not_connected)))\n",
    "print(string)"
   ]
  },
  {
   "cell_type": "code",
   "execution_count": 113,
   "metadata": {},
   "outputs": [],
   "source": [
    "with open('exploration_results.txt', 'w') as f:\n",
    "    f.write(string)"
   ]
  },
  {
   "cell_type": "code",
   "execution_count": 85,
   "metadata": {},
   "outputs": [
    {
     "data": {
      "text/plain": [
       "defaultdict(int,\n",
       "            {'ADE': 2387,\n",
       "             'Dose': 5204,\n",
       "             'Drug': 19587,\n",
       "             'Duration': 911,\n",
       "             'Frequency': 4431,\n",
       "             'Indication': 4847,\n",
       "             'Route': 2558,\n",
       "             'SSLIF': 2913,\n",
       "             'Severity': 3492})"
      ]
     },
     "execution_count": 85,
     "metadata": {},
     "output_type": "execute_result"
    }
   ],
   "source": [
    "string += \"Most common edges: \\n\\t{}\".format('\\n\\t'.join([' => '.join(types) + ': '+str(count) for \n",
    "                     (types, count) in \n",
    "                    sorted(entity_types.items(), key=lambda x:x[1], reverse=True)]))"
   ]
  },
  {
   "cell_type": "code",
   "execution_count": null,
   "metadata": {},
   "outputs": [],
   "source": []
  }
 ],
 "metadata": {
  "kernelspec": {
   "display_name": "Python 3",
   "language": "python",
   "name": "python3"
  },
  "language_info": {
   "codemirror_mode": {
    "name": "ipython",
    "version": 3
   },
   "file_extension": ".py",
   "mimetype": "text/x-python",
   "name": "python",
   "nbconvert_exporter": "python",
   "pygments_lexer": "ipython3",
   "version": "3.6.4"
  }
 },
 "nbformat": 4,
 "nbformat_minor": 2
}
