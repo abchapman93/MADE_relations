{
 "cells": [
  {
   "cell_type": "code",
   "execution_count": 2,
   "metadata": {},
   "outputs": [
    {
     "name": "stdout",
     "output_type": "stream",
     "text": [
      "0/876\n",
      "100/876\n",
      "200/876\n",
      "300/876\n",
      "400/876\n",
      "500/876\n",
      "600/876\n",
      "700/876\n",
      "800/876\n"
     ]
    }
   ],
   "source": [
    "from data_exploration import *"
   ]
  },
  {
   "cell_type": "code",
   "execution_count": 20,
   "metadata": {},
   "outputs": [],
   "source": [
    "import matplotlib.pyplot as plt\n",
    "%matplotlib inline"
   ]
  },
  {
   "cell_type": "code",
   "execution_count": 21,
   "metadata": {},
   "outputs": [],
   "source": [
    "# Plot distribution of relation types\n",
    "x, y = zip(*sorted(type_relations.items(), key=lambda x:x[1], reverse=True))\n",
    "#plt.xticks(labels)\n",
    "#plt.xlabel(labels, rotation=\"vertical\")\n",
    "labels = [name if i % 1 ==0 else '' for (i, name) in enumerate(x)]"
   ]
  },
  {
   "cell_type": "code",
   "execution_count": 22,
   "metadata": {
    "scrolled": true
   },
   "outputs": [
    {
     "data": {
      "image/png": "[encoded data removed]",
      "text/plain": [
       "<matplotlib.figure.Figure at 0x21e0f5012b0>"
      ]
     },
     "metadata": {},
     "output_type": "display_data"
    }
   ],
   "source": [
    "fig, ax = plt.subplots()\n",
    "#ax.plot()\n",
    "ax.plot(range(len(x)), y, marker='.')\n",
    "#ax.set_xticklabels(x, rotation=\"vertical\")\n",
    "plt.xticks(range(len(x)), labels, rotation=\"vertical\") \n",
    "plt.plot(range(len(x)), [1000]*len(x))\n",
    "_= plt.title(\"Distribution of Relation Types in MADE Challenge\")\n",
    "\n"
   ]
  },
  {
   "cell_type": "code",
   "execution_count": 45,
   "metadata": {},
   "outputs": [
    {
     "name": "stdout",
     "output_type": "stream",
     "text": [
      "protocol with daily <DRUG-INDICATION>  <Drug>  uric acid  </Drug> and IV hydration as prophylaxis against <Indication>  tumor \\nlysis syndrome  </Indication>  </DRUG-INDICATION>\n",
      "\n",
      " in addition to dail\n",
      "imately 10 mL of 2% <DRUG-INDICATION>  <Drug>  lidocaine  </Drug> was then injected to  \n",
      "achieve local <Indication>  anesthesia  </Indication>  </DRUG-INDICATION>\n",
      "\n",
      ".  A boring needle w\n",
      "ection and he is on <DRUG-INDICATION>  <Indication>  prophylactic  </Indication> <Drug>  antibiotics  </Drug>  </DRUG-INDICATION>\n",
      "\n",
      ".  \n",
      "3.  Mast cell no\n",
      "ection and he is on <DRUG-INDICATION>  <Indication>  prophylactic  </Indication> Cipro, <Drug>  acyclovir  </Drug>  </DRUG-INDICATION>\n",
      "\n",
      " and Noxafil. He wil\n"
     ]
    }
   ],
   "source": [
    "def print_relation_examples(entity_type1, entity_type2, thresh=25):\n",
    "    examples = {}\n",
    "    count = 0\n",
    "    for filename, doc in docs.items():\n",
    "        if count >= thresh:\n",
    "            break\n",
    "        for relation in doc.relations:\n",
    "            if relation.entity_types == (entity_type1, entity_type2):\n",
    "                examples[doc] = relation\n",
    "                count += 1\n",
    "                if count == thresh:\n",
    "\n",
    "                    break\n",
    "                continue\n",
    "                \n",
    "    \n",
    "    strings = []   \n",
    "    for doc, relation in list(examples.items())[:25]:\n",
    "        first_span = relation.annotation_1.span\n",
    "        second_span = relation.annotation_2.span\n",
    "        sorted_entities = sorted((relation.annotation_1, relation.annotation_2), key=lambda x:x.span[0])\n",
    "        entity1, entity2 = sorted_entities\n",
    "        start, end = relation.span\n",
    "        string = ''\n",
    "        string += doc.text[start -20 : start]\n",
    "        string += '<{}>  '.format(entity_type1.upper() + '-' + entity_type2.upper())\n",
    "        string += '<{}>  '.format(entity1.type)\n",
    "        string += entity1.text\n",
    "        string += '  </{}>'.format(entity1.type)\n",
    "        string += doc.text[entity1.span[1]:entity2.span[0]]\n",
    "        string += '<{}>  '.format(entity2.type)\n",
    "        string += entity2.text\n",
    "        string += '  </{}>'.format(entity2.type)\n",
    "        string += '  </{}>\\n\\n'.format(entity_type1.upper() + '-' + entity_type2.upper())\n",
    "        string += doc.text[end: end+20]\n",
    "        print(string)\n",
    "        strings.append(string)\n",
    "    return strings\n",
    "    \n",
    "    \n",
    "    \n",
    "examples = print_relation_examples('Drug', 'Indication')"
   ]
  },
  {
   "cell_type": "code",
   "execution_count": 47,
   "metadata": {},
   "outputs": [
    {
     "data": {
      "text/plain": [
       "876"
      ]
     },
     "execution_count": 47,
     "metadata": {},
     "output_type": "execute_result"
    }
   ],
   "source": []
  },
  {
   "cell_type": "code",
   "execution_count": 44,
   "metadata": {},
   "outputs": [
    {
     "data": {
      "text/plain": [
       "4"
      ]
     },
     "execution_count": 44,
     "metadata": {},
     "output_type": "execute_result"
    }
   ],
   "source": [
    "len(examples)"
   ]
  },
  {
   "cell_type": "code",
   "execution_count": 16,
   "metadata": {},
   "outputs": [
    {
     "ename": "NameError",
     "evalue": "name 'examples' is not defined",
     "output_type": "error",
     "traceback": [
      "\u001b[1;31m---------------------------------------------------------------------------\u001b[0m",
      "\u001b[1;31mNameError\u001b[0m                                 Traceback (most recent call last)",
      "\u001b[1;32m<ipython-input-16-d18d4adc4a32>\u001b[0m in \u001b[0;36m<module>\u001b[1;34m()\u001b[0m\n\u001b[0;32m     10\u001b[0m             \u001b[1;32mcontinue\u001b[0m\u001b[1;33m\u001b[0m\u001b[0m\n\u001b[0;32m     11\u001b[0m \u001b[1;33m\u001b[0m\u001b[0m\n\u001b[1;32m---> 12\u001b[1;33m     \u001b[1;32mfor\u001b[0m \u001b[0mdoc\u001b[0m\u001b[1;33m,\u001b[0m \u001b[0mrelation\u001b[0m \u001b[1;32min\u001b[0m \u001b[0mlist\u001b[0m\u001b[1;33m(\u001b[0m\u001b[0mexamples\u001b[0m\u001b[1;33m.\u001b[0m\u001b[0mitems\u001b[0m\u001b[1;33m(\u001b[0m\u001b[1;33m)\u001b[0m\u001b[1;33m)\u001b[0m\u001b[1;33m[\u001b[0m\u001b[1;33m:\u001b[0m\u001b[1;36m25\u001b[0m\u001b[1;33m]\u001b[0m\u001b[1;33m:\u001b[0m\u001b[1;33m\u001b[0m\u001b[0m\n\u001b[0m\u001b[0;32m     13\u001b[0m         \u001b[0mstart\u001b[0m\u001b[1;33m,\u001b[0m \u001b[0mend\u001b[0m \u001b[1;33m=\u001b[0m \u001b[0mrelation\u001b[0m\u001b[1;33m.\u001b[0m\u001b[0mspan\u001b[0m\u001b[1;33m\u001b[0m\u001b[0m\n\u001b[0;32m     14\u001b[0m         \u001b[0mprint\u001b[0m\u001b[1;33m(\u001b[0m\u001b[0mdoc\u001b[0m\u001b[1;33m.\u001b[0m\u001b[0mtext\u001b[0m\u001b[1;33m[\u001b[0m\u001b[0mstart\u001b[0m \u001b[1;33m-\u001b[0m \u001b[1;36m10\u001b[0m\u001b[1;33m:\u001b[0m \u001b[0mend\u001b[0m \u001b[1;33m+\u001b[0m \u001b[1;36m10\u001b[0m\u001b[1;33m]\u001b[0m\u001b[1;33m)\u001b[0m\u001b[1;33m\u001b[0m\u001b[0m\n",
      "\u001b[1;31mNameError\u001b[0m: name 'examples' is not defined"
     ]
    }
   ],
   "source": [
    "## Find some specific examples of the most common relation, ('Drug', 'Dose')\n",
    "drug_doses = {}\n",
    "\n",
    "for filename, doc in docs.items():\n",
    "    if len(drug_doses) >= 25:\n",
    "        break\n",
    "    for relation in doc.relations:\n",
    "        if relation.entity_types == ('Drug', 'Dose'):\n",
    "            drug_doses[doc] = relation\n",
    "            continue\n",
    "            \n",
    "    \n",
    "        \n",
    "    "
   ]
  },
  {
   "cell_type": "code",
   "execution_count": 11,
   "metadata": {},
   "outputs": [
    {
     "name": "stdout",
     "output_type": "stream",
     "text": [
      "es daily, ciprofloxacin 500 mg daily in \n",
      "oximately 10 mL of 2% lidocaine was then \n",
      "r nausea, ambien 5mg po qhs pr\n",
      "r off his steroids by 10 mg every 2 weeks, he continues on 20mg every oth\n",
      "a day and valacyclovir 500 mg p.o. t.i.\n",
      "ed p.o.  \n",
      "vancomycin 125 mg 4 times d\n",
      "is taking Rapamune 5.5 mg every Mon\n",
      "ntinue on omeprazole 20 mg p.o. dail\n",
      "r day and Rapamune 0.5 mg twice a w\n",
      "h will be high-dose methotrexate and cytarabine in the ea\n",
      "esthesia: Lidocaine 1%;  mL subc\n",
      "g off his steroids.  He is going to be taking 20 mg every other day alternating with 10 mg every oth\n",
      "00 units, Noxafil 200 mg, magnesiu\n",
      "1 dose of Rituxan at 500 mg/m2 today.  \n",
      "\n",
      " received 2 doses of rituximab along wit\n",
      " PO Qday, Oxycodone-Acetaminophen 5-325 mg PO Q 4-6 \n",
      "cations  \n",
      "levothyroxine (Synthroid) 150 mcg Tablet, Ordered By: [** Name **]  [** Name **]  \n",
      "Directions: 1 tablet oral DAIL\n",
      "s to take gabapentin 200 mg twice a d\n",
      "e current dapsone tablets,  he will\n",
      "s daily  \n",
      "dexamethasone 4 mg Tablet, Ordered By: [** Name **] [** Name **] [** Name **]  \n",
      "Directions: 1 tablet oral dail\n",
      "nitiating taper off sirolimus, particul\n",
      "vomiting, sennoside  \n",
      "8.6 mg tablets 2 tablets oral twic\n",
      "d over to sirolimus 0.5 mg Monday, W\n",
      " and also prednisone 5 mg every oth\n",
      " he  \n",
      "got 4 doses of Velcade also, 2 b\n"
     ]
    }
   ],
   "source": [
    "for doc, relation in list(drug_doses.items())[:25]:\n",
    "    start, end = relation.span\n",
    "    print(doc.text[start - 10: end + 10])"
   ]
  },
  {
   "cell_type": "code",
   "execution_count": null,
   "metadata": {},
   "outputs": [],
   "source": []
  }
 ],
 "metadata": {
  "kernelspec": {
   "display_name": "Python 3",
   "language": "python",
   "name": "python3"
  },
  "language_info": {
   "codemirror_mode": {
    "name": "ipython",
    "version": 3
   },
   "file_extension": ".py",
   "mimetype": "text/x-python",
   "name": "python",
   "nbconvert_exporter": "python",
   "pygments_lexer": "ipython3",
   "version": "3.6.4"
  }
 },
 "nbformat": 4,
 "nbformat_minor": 2
}
