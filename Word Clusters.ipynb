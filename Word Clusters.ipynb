{
 "cells": [
  {
   "cell_type": "code",
   "execution_count": 52,
   "metadata": {},
   "outputs": [
    {
     "data": {
      "text/plain": [
       "'C:\\\\Users\\\\u0752374\\\\projects\\\\MADE_relations'"
      ]
     },
     "execution_count": 52,
     "metadata": {},
     "output_type": "execute_result"
    }
   ],
   "source": [
    "import os, sys\n",
    "sys.path.append('./basic')\n",
    "sys.path.append('./feature_extraction')\n",
    "from nltk import ngrams as nltk_ngrams\n",
    "\n",
    "\n",
    "from base_feature import *\n",
    "os.getcwd()\n",
    "#os.chdir('..')\n",
    "#from data_exploration import *"
   ]
  },
  {
   "cell_type": "code",
   "execution_count": 2,
   "metadata": {},
   "outputs": [],
   "source": [
    "import pickle\n",
    "\n",
    "with open('./data/training_documents_and_relations.pkl', 'rb') as f:\n",
    "    docs, relats = pickle.load(f)"
   ]
  },
  {
   "cell_type": "code",
   "execution_count": 5,
   "metadata": {},
   "outputs": [],
   "source": [
    "#'\"C:\\Users\\u0752374\\Box Sync\\NLP_Challenge\\Data_Resources\\Word_Clusters\\WordClusters_K500_BatchKmeans_wikipedia-pubmed-and-PMC-w2v.pickle\"'\n",
    "inpath = os.path.join(os.path.expanduser('~'), 'Box Sync', 'NLP_Challenge', 'Data_Resources', 'Word_Clusters', 'WordClusters_K500_BatchKmeans_wikipedia-pubmed-and-PMC-w2v.pickle')"
   ]
  },
  {
   "cell_type": "code",
   "execution_count": 6,
   "metadata": {},
   "outputs": [
    {
     "name": "stdout",
     "output_type": "stream",
     "text": [
      "93\n"
     ]
    }
   ],
   "source": [
    "with open(inpath, 'rb') as f:\n",
    "    clusters = pickle.load(f)\n",
    "    \n",
    "print(clusters['hello'])"
   ]
  },
  {
   "cell_type": "code",
   "execution_count": 10,
   "metadata": {},
   "outputs": [
    {
     "data": {
      "text/plain": [
       "\"Patient: --- Name ---, --- Name ---          Acct.#:     --- Medical_Record_Number ---       MR #:     --- Medical_Record_Number ---  \\nD.O.B:   --- Date ---            Date of     --- Date ---        Location: --- Named_Sites ---  \\n                               Visit:  \\nDictated --- Date ---  4:18 P    Transcribed --- Date ---  7:48  \\n:                              :           A  \\n  \\n                                CLINIC NOTE  \\n  \\nCURRENT DIAGNOSIS:  Primary mediastinal large B cell lymphoma, stage II B,  \\nwith an IPI score of 1.  \\n  \\nCURRENT TREATMENT:  R-CHOP, status post day plus 5 of her first cycle of  \\nchemotherapy with R-CHOP.  \\n  \\nINTERIM HISTORY:  --- Name --- got her first cycle of chemotherapy with R-CHOP.  \\nThis was in the hospital.  Following this, she was discharged to take  \\nprednisone and finish a 5-day course.  She today comes for followup of  \\nabove.  \\n  \\n--- Name --- has been stating that she is having some nausea and also epigastric  \\ndiscomfort.  She also has some tenderness in her neck.  She feels like her  \\nneck is swollen and her ears are full.  She denied any fever.  She also has  \\na very poor energy level.  Her appetite has been so-so.  --- Name --- states that  \\nshe has not been eating well at home; this is mainly because of the neck  \\ndiscomfort and also because of the epigastric discomfort; occasional  \\nnausea, especially when she is hungry.  She is otherwise denying headaches  \\nor vision changes.  She is denying pain as such on swallowing.  She is  \\ndenying chest pain.  She continues to have the chest pressure.  She has to  \\nsleep in a particular position to avoid the subjective feeling of shortness  \\nof breath.  She is denying any belly complaints.  There is no constipation,  \\nno loose stools.  She does not have any focal numbness, tingling, skin rash  \\nor joint swelling.  She has not had any ear discharge, she just complains  \\nof ear fullness.  \\n  \\nREVIEW OF SYSTEMS:  Comprehensive review of system other than that  \\nmentioned above is negative.  \\n  \\nALLERGIES:  She is allergic to amoxicillin.  \\n  \\nPAST MEDICAL HISTORY:  None.  \\n  \\nSOCIAL HISTORY:  She lives at home with her fiance, and a daughter who is 5  \\nyears of age.  No smoking, no was noted.  No alcohol use, no illicit drug  \\nuse.  \\n  \\nPHYSICAL EXAMINATION:  In the clinic, she looks comfortable, although she  \\nlooked tired and weak, but did not appear in any pain.  She did look  \\nexhausted.  HEENT:  She had mild pallor.  She did not have any icterus, no  \\nconjunctival hemorrhage.  She had diffuse tenderness in her neck but no  \\npalpable mass.  Her ear exam did not reveal any erythema or discharge.  \\nThere was no bulge in her tympanic membranes.  They were otherwise intact.  \\nChest was clear to auscultation bilaterally, no added sounds.  S1, S2,  \\nregular, no murmurs, rubs or gallops heard.  Belly exam was soft,  \\nnontender, nondistended.  Palpable lower extremity pulses, no edema, no  \\nskin rash.  She was awake, alert, oriented x3.  Motor was 5/5 in all 4  \\nextremities.  Sensation is grossly intact.  Cranial nerves are intact.  \\n  \\nLABORATORY DATA:  Sodium 139, potassium 3.6, chloride 104, bicarbonate 25,  \\nBUN 9, creatinine 0.55, blood glucose 113, calcium of 8.8, phosphorus 4.2,  \\ntotal protein 6.1, albumin 3.5, T-bili 0.4, direct bilirubin 0.1, alkaline  \\nphosphatase 128, AST 15, ALT 33, LDH 229.  Her iron is low at 17,  \\ntransferrin 242, TIBC 303.  White count 6.1, hemoglobin 12.4, hematocrit  \\n36.8, platelets at 388,000; 95% neutrophils, 4.1% lymphocytes, 0.2%  \\nmonocytes, 0.3% eosinophils, 0.1% basophils.  \\n  \\nASSESSMENT:  A 31-year-old female with a new diagnosis of anterior  \\nmediastinal large B cell lymphoma, status post 1 cycle of chemotherapy with  \\nR-CHOP stage II with an IPI score of 1.  \\n  \\nPLAN:  \\n1.  The patient did not receive Neulasta after her first cycle of  \\nchemotherapy with R-CHOP.  I will check her counts in another week's time.  \\nIn the event that her counts start dropping, we might have to bring her  \\nback for daily Neupogen.  This is to prevent any delays in her  \\nchemotherapy.  She also had a most recent PET scan done, which essentially  \\nshowed hypermetabolic anterior mediastinal mass with nodal involvement from  \\nanterolateral left lower neck and supraclavicular region of the  \\nanteromedial left hemidiaphragm.  The disease did not extend into below the  \\ndiaphragm.  She had a bone marrow biopsy done, which did not reveal  \\ninvolvement with lymphoma.  The patient has known bulky disease.  She has a  \\ngood performance status.  The treatment options are either R-CHOP 3 cycles  \\nfollowed by radiation or R-CHOP 6-8 cycles plus/minus radiation therapy.  \\nHowever due to the B symptoms we are more inclined to give her 6 cycles  \\nwith restaging scans during tretament that 3 cycles followed by radiation  \\n2.  Neck pain:  The patient has been on high-dose steroids.  Unfortunately,  \\nshe has not been taking any proton pump inhibitors.  I have advised her to  \\ntake Protonix 40 mg p.o. b.i.d.  The epigastric discomfort, the pain when  \\nshe does not eat, and the neck pain sound more like reflux.  I have advised  \\nher that it should get better with a PPI.  I have also given her a  \\nprescription for Zofran and Reglan.  In the event that her nausea and the  \\npain is not controlled with the above, she needs to give us a call.  \\n3.  Prophylaxis:  I have given her a prescription for Bactrim 1 tablet  \\nsingle strength to be taken daily for PCP prophylaxis.  \\n4.  I have advised her that in the event that she has a temperature of  \\n100.5 or higher, she needs to call us immediately.  We had a discussion  \\nabout port placement.  However, the patient at this time, does not want a  \\nport placed in.  She is comfortable getting blood work done through her  \\nperipheral veins once every week.  We did discuss the benefits of having a  \\nport including easy access, the ease of administration of chemotherapy, and  \\nthe ease of blood draws.  However, currently, the patient has discussed  \\nthis with her radiologist friend and does not want to proceed with a port.  \\n  \\nThe patient was accompanied by her mother, who is a nurse and does  \\nunderstand the above plan.  I will bring her back in a week's time for  \\nrepeat lab draws.  She will be due for her next cycle of R-CHOP, which we  \\nwill give on --- Date --- instead of --- Date ---.  \\n  \\nDr. --- Name --- --- Name --- was present at the time of the above evaluation and agreed  \\nwith the plan.  \\n  \\n  \\n  \\nI saw and evaluated the patient.  I discussed the case with the fellow and  \\nagree with the findings and plan as documented in the fellow's note.  \\n  \\nReviewed  \\n--- Name --- --- Name ---, MD --- Date --- 17:26  \\n  \\nE-Signed By  \\n--- Name --- --- Name --- --- Name ---, MD --- Date --- 12:28  \\n____________________________  \\n--- Name --- --- Name --- --- Name ---, MD  \\n  \\nPatient evaluated by and note dictated by: --- Name --- --- Name ---, MD  \\n  \\n--- Medical_Record_Number ---  \\n  \\ncc:    --- Name --- --- Name --- --- Name ---, MD  \\n       --- Name --- --- Name --- --- Name ---, MD  \\n \\n\""
      ]
     },
     "execution_count": 10,
     "metadata": {},
     "output_type": "execute_result"
    }
   ],
   "source": [
    "doc = docs[0]\n",
    "doc.text"
   ]
  },
  {
   "cell_type": "code",
   "execution_count": 21,
   "metadata": {
    "scrolled": true
   },
   "outputs": [
    {
     "data": {
      "text/plain": [
       "['ASSESSMENT',\n",
       " ':',\n",
       " 'A',\n",
       " '31-year-old',\n",
       " 'female',\n",
       " 'with',\n",
       " 'a',\n",
       " 'new',\n",
       " 'diagnosis',\n",
       " 'of',\n",
       " 'anterior',\n",
       " 'mediastinal',\n",
       " 'large',\n",
       " 'B',\n",
       " 'cell',\n",
       " 'lymphoma',\n",
       " ',',\n",
       " 'status',\n",
       " 'post',\n",
       " '1',\n",
       " 'cycle',\n",
       " 'of',\n",
       " 'chemotherapy',\n",
       " 'with',\n",
       " 'R-CHOP',\n",
       " 'stage',\n",
       " 'II',\n",
       " 'with',\n",
       " 'an',\n",
       " 'IPI',\n",
       " 'score',\n",
       " 'of',\n",
       " '1',\n",
       " '.']"
      ]
     },
     "execution_count": 21,
     "metadata": {},
     "output_type": "execute_result"
    }
   ],
   "source": [
    "relat = doc.get_relations()[1]\n",
    "\n",
    "sent = doc.get_sentences_overlap_span(relat.span)[0]\n",
    "sent"
   ]
  },
  {
   "cell_type": "code",
   "execution_count": 25,
   "metadata": {},
   "outputs": [],
   "source": [
    "sent_clusters = [clusters.setdefault(w.lower(), 'OOV') for w in sent]"
   ]
  },
  {
   "cell_type": "code",
   "execution_count": 26,
   "metadata": {
    "scrolled": true
   },
   "outputs": [
    {
     "data": {
      "text/plain": [
       "[268,\n",
       " 10,\n",
       " 135,\n",
       " 109,\n",
       " 485,\n",
       " 85,\n",
       " 135,\n",
       " 415,\n",
       " 72,\n",
       " 434,\n",
       " 374,\n",
       " 109,\n",
       " 112,\n",
       " 428,\n",
       " 393,\n",
       " 40,\n",
       " 336,\n",
       " 415,\n",
       " 243,\n",
       " 18,\n",
       " 199,\n",
       " 434,\n",
       " 205,\n",
       " 85,\n",
       " 'OOV',\n",
       " 40,\n",
       " 135,\n",
       " 85,\n",
       " 434,\n",
       " 210,\n",
       " 159,\n",
       " 434,\n",
       " 18,\n",
       " 415]"
      ]
     },
     "execution_count": 26,
     "metadata": {},
     "output_type": "execute_result"
    }
   ],
   "source": [
    "sent_clusters"
   ]
  },
  {
   "cell_type": "code",
   "execution_count": null,
   "metadata": {},
   "outputs": [],
   "source": []
  },
  {
   "cell_type": "code",
   "execution_count": null,
   "metadata": {},
   "outputs": [],
   "source": []
  },
  {
   "cell_type": "code",
   "execution_count": 33,
   "metadata": {},
   "outputs": [],
   "source": [
    "docs = {doc.file_name: doc for doc in docs}\n",
    "\n",
    "doc = docs[relat.file_name]"
   ]
  },
  {
   "cell_type": "code",
   "execution_count": 34,
   "metadata": {},
   "outputs": [],
   "source": [
    "with open(os.path.join('data', 'vocab.pkl'), 'rb') as f:\n",
    "        vocab, pos_vocab = pickle.load(f)"
   ]
  },
  {
   "cell_type": "code",
   "execution_count": 99,
   "metadata": {},
   "outputs": [],
   "source": []
  },
  {
   "cell_type": "code",
   "execution_count": 100,
   "metadata": {},
   "outputs": [
    {
     "data": {
      "text/plain": [
       "{'clusters_after:<434 85>': 1,\n",
       " 'clusters_after:<434>': 1,\n",
       " 'clusters_after:<85>': 1,\n",
       " 'clusters_before:<434 72>': 1,\n",
       " 'clusters_before:<434>': 1,\n",
       " 'clusters_before:<72>': 1,\n",
       " 'clusters_in_between:<18 199>': 1,\n",
       " 'clusters_in_between:<18 243>': 1,\n",
       " 'clusters_in_between:<18>': 1,\n",
       " 'clusters_in_between:<199 434>': 1,\n",
       " 'clusters_in_between:<199>': 1,\n",
       " 'clusters_in_between:<205 434>': 1,\n",
       " 'clusters_in_between:<205 85>': 1,\n",
       " 'clusters_in_between:<205>': 1,\n",
       " 'clusters_in_between:<243 415>': 1,\n",
       " 'clusters_in_between:<243>': 1,\n",
       " 'clusters_in_between:<336 415>': 1,\n",
       " 'clusters_in_between:<336>': 1,\n",
       " 'clusters_in_between:<415>': 1,\n",
       " 'clusters_in_between:<434>': 1,\n",
       " 'clusters_in_between:<85 OOV>': 1,\n",
       " 'clusters_in_between:<85>': 1,\n",
       " 'clusters_in_between:<OOV>': 1,\n",
       " 'clusters_in_entity_1:<109 112>': 1,\n",
       " 'clusters_in_entity_1:<109 374>': 1,\n",
       " 'clusters_in_entity_1:<109>': 1,\n",
       " 'clusters_in_entity_1:<112 428>': 1,\n",
       " 'clusters_in_entity_1:<112>': 1,\n",
       " 'clusters_in_entity_1:<374>': 1,\n",
       " 'clusters_in_entity_1:<393 40>': 1,\n",
       " 'clusters_in_entity_1:<393 428>': 1,\n",
       " 'clusters_in_entity_1:<393>': 1,\n",
       " 'clusters_in_entity_1:<40>': 1,\n",
       " 'clusters_in_entity_1:<428>': 1,\n",
       " 'clusters_in_entity_2:<135 40>': 1,\n",
       " 'clusters_in_entity_2:<135>': 1,\n",
       " 'clusters_in_entity_2:<40>': 1}"
      ]
     },
     "execution_count": 100,
     "metadata": {},
     "output_type": "execute_result"
    }
   ],
   "source": [
    "fe = WordClusterExtractor(vocab, clusters, ngram_window=(1, 2))\n",
    "fe.create_feature_dict(relat, doc)"
   ]
  },
  {
   "cell_type": "code",
   "execution_count": 66,
   "metadata": {},
   "outputs": [
    {
     "data": {
      "text/plain": [
       "[stage II], 3725:3733, type=[Severity]"
      ]
     },
     "execution_count": 66,
     "metadata": {},
     "output_type": "execute_result"
    }
   ],
   "source": [
    "relat.annotation_2"
   ]
  },
  {
   "cell_type": "code",
   "execution_count": 29,
   "metadata": {},
   "outputs": [
    {
     "ename": "KeyError",
     "evalue": "'Hi'",
     "output_type": "error",
     "traceback": [
      "\u001b[1;31m---------------------------------------------------------------------------\u001b[0m",
      "\u001b[1;31mKeyError\u001b[0m                                  Traceback (most recent call last)",
      "\u001b[1;32m<ipython-input-29-5e58da9fdb4f>\u001b[0m in \u001b[0;36m<module>\u001b[1;34m()\u001b[0m\n\u001b[1;32m----> 1\u001b[1;33m \u001b[0md\u001b[0m\u001b[1;33m[\u001b[0m\u001b[1;34m'Hi'\u001b[0m\u001b[1;33m]\u001b[0m\u001b[1;33m\u001b[0m\u001b[0m\n\u001b[0m",
      "\u001b[1;31mKeyError\u001b[0m: 'Hi'"
     ]
    }
   ],
   "source": []
  },
  {
   "cell_type": "code",
   "execution_count": 98,
   "metadata": {},
   "outputs": [
    {
     "data": {
      "text/plain": [
       "Counter({'H': 1, 'e': 1, 'l': 2, 'o': 1})"
      ]
     },
     "execution_count": 98,
     "metadata": {},
     "output_type": "execute_result"
    }
   ],
   "source": [
    "c = Counter()\n",
    "Counter('Hello')"
   ]
  },
  {
   "cell_type": "code",
   "execution_count": 101,
   "metadata": {},
   "outputs": [],
   "source": [
    "l = list(clusters.keys())"
   ]
  },
  {
   "cell_type": "code",
   "execution_count": 104,
   "metadata": {},
   "outputs": [
    {
     "data": {
      "text/plain": [
       "['</s>',\n",
       " 'the',\n",
       " ',',\n",
       " '.',\n",
       " 'of',\n",
       " 'and',\n",
       " 'in',\n",
       " 'to',\n",
       " ')',\n",
       " '(',\n",
       " 'a',\n",
       " 'with',\n",
       " 'was',\n",
       " 'for',\n",
       " 'The',\n",
       " 'is',\n",
       " 'that',\n",
       " 'were',\n",
       " 'by',\n",
       " '\"',\n",
       " 'as',\n",
       " 'on',\n",
       " 'from',\n",
       " 'at',\n",
       " 'are',\n",
       " '%',\n",
       " 'or',\n",
       " 'be',\n",
       " 'an',\n",
       " 'In',\n",
       " 'not',\n",
       " ';',\n",
       " 'patients',\n",
       " 'this',\n",
       " ':',\n",
       " 'which',\n",
       " \"'s\",\n",
       " 'cells',\n",
       " 'have',\n",
       " 'has',\n",
       " 'also',\n",
       " 'A',\n",
       " 'between',\n",
       " 'study',\n",
       " 'been',\n",
       " 'it',\n",
       " 'but',\n",
       " 'than',\n",
       " 'after',\n",
       " 'had',\n",
       " 'their',\n",
       " '1',\n",
       " 'these',\n",
       " '=',\n",
       " 'two',\n",
       " 'used',\n",
       " 'This',\n",
       " 'can',\n",
       " 'using',\n",
       " 'we',\n",
       " 'may',\n",
       " 'more',\n",
       " 'cell',\n",
       " 'other',\n",
       " 'one',\n",
       " 'all',\n",
       " '2',\n",
       " 'his',\n",
       " 'both',\n",
       " 'during',\n",
       " 'data',\n",
       " \"'\",\n",
       " 'its',\n",
       " 'treatment',\n",
       " 'We',\n",
       " '[',\n",
       " ']',\n",
       " 'results',\n",
       " 'into',\n",
       " 'first',\n",
       " 'group',\n",
       " 'expression',\n",
       " 'time',\n",
       " 'only',\n",
       " 'It',\n",
       " 'analysis',\n",
       " 'protein',\n",
       " 'he',\n",
       " 'no',\n",
       " 'found',\n",
       " 'who',\n",
       " 'activity',\n",
       " 'different',\n",
       " 'such',\n",
       " '3',\n",
       " '<',\n",
       " 'when',\n",
       " 'levels',\n",
       " 'studies',\n",
       " 'years']"
      ]
     },
     "execution_count": 104,
     "metadata": {},
     "output_type": "execute_result"
    }
   ],
   "source": [
    "l[:100]"
   ]
  },
  {
   "cell_type": "code",
   "execution_count": null,
   "metadata": {},
   "outputs": [],
   "source": []
  }
 ],
 "metadata": {
  "kernelspec": {
   "display_name": "Python 3",
   "language": "python",
   "name": "python3"
  },
  "language_info": {
   "codemirror_mode": {
    "name": "ipython",
    "version": 3
   },
   "file_extension": ".py",
   "mimetype": "text/x-python",
   "name": "python",
   "nbconvert_exporter": "python",
   "pygments_lexer": "ipython3",
   "version": "3.6.4"
  }
 },
 "nbformat": 4,
 "nbformat_minor": 2
}
