{
 "cells": [
  {
   "cell_type": "code",
   "execution_count": 307,
   "metadata": {},
   "outputs": [
    {
     "data": {
      "text/plain": [
       "<module 'annotation' from 'C:\\\\Users\\\\u0752374\\\\projects\\\\MADE_relations\\\\basic\\\\annotation.py'>"
      ]
     },
     "execution_count": 307,
     "metadata": {},
     "output_type": "execute_result"
    }
   ],
   "source": [
    "from importlib import reload\n",
    "import annotation\n",
    "reload(annotation)"
   ]
  },
  {
   "cell_type": "code",
   "execution_count": 308,
   "metadata": {},
   "outputs": [],
   "source": [
    "\"\"\"\n",
    "This module will contain helper classes and functions for parsing\n",
    "the data found in annotations.\n",
    "\"\"\"\n",
    "import bioc\n",
    "import os, glob\n",
    "\n",
    "class TextAndBioCParser(object):\n",
    "    def __init__(self, datadir=''):\n",
    "        \"\"\"\n",
    "        datadir: the path leading to the directory containing 'corpus' and 'annotations'.\n",
    "        \n",
    "        \"\"\"\n",
    "        self.datadir = datadir\n",
    "        if self.datadir == '':\n",
    "            self.datadir = os.path.join(os.path.expanduser('~'), 'Box Sync', 'NLP_Challenge', 'MADE-1.0')\n",
    "        \n",
    "        assert os.path.exists(self.datadir)\n",
    "        pass\n",
    "    \n",
    "    \n",
    "    def read_texts_and_xmls(self, num_docs=-1):\n",
    "        \"\"\"\n",
    "        Reads corresponding text and annotation files\n",
    "        that are located in self.datadir\n",
    "        num_docs: number of docs to read in. If left as default, will read all docs.\n",
    "        \"\"\"\n",
    "        annotated_docs = {} # {file_name: (text, [annotation_1, ..., annotation_n])}\n",
    "        text_files = glob.glob(os.path.join(self.datadir, 'corpus', '*'))\n",
    "        for i, file_path in enumerate(text_files):\n",
    "            if i == num_docs:\n",
    "                break\n",
    "            file_name = os.path.basename(file_path)\n",
    "            text, annotations, relations = self.read_text_and_xml(file_name)\n",
    "            annotated_docs[file_name] = annotation.AnnotatedDocument(file_name, text, annotations, relations)\n",
    "        return annotated_docs\n",
    "        \n",
    "    def read_text_and_xml(self, file_name):\n",
    "        \"\"\"\n",
    "        Reads a single text file and its corresponding xml.\n",
    "        \"\"\"\n",
    "        return [self.read_text_file(file_name)] + self.read_bioc_xml(file_name)\n",
    "    \n",
    "    \n",
    "    def read_text_file(self, file_name):\n",
    "        \"\"\"\n",
    "        Reads the text in a file_name\n",
    "        \"\"\"\n",
    "        fullpath = os.path.join(self.datadir, 'corpus', file_name)\n",
    "        with open(fullpath) as f:\n",
    "            text = f.read()\n",
    "        return text\n",
    "\n",
    "    def read_bioc_xml(self, file_name):\n",
    "        \"\"\"\n",
    "        Parses a bioc xml file.\n",
    "        Returns a list of of lists of:\n",
    "            annotations\n",
    "            relations\n",
    "        \"\"\"\n",
    "        full_path = os.path.join(self.datadir, 'annotations', file_name+\".bioc.xml\")\n",
    "        bioc_reader = bioc.BioCReader(full_path)\n",
    "        bioc_reader.read()\n",
    "        doc = bioc_reader.collection.documents[0]\n",
    "        passage = doc.passages[0]\n",
    "        annos = {anno.id: anno for anno in passage.annotations}\n",
    "        relations = {relat.id: relat for relat in passage.relations}\n",
    "        return [annos, relations]\n",
    "        #annos = [EntityAnnotatio]\n",
    "        return {'annotations': annos,\n",
    "               'relations': relations}\n",
    "        \n",
    "        "
   ]
  },
  {
   "cell_type": "code",
   "execution_count": 309,
   "metadata": {},
   "outputs": [
    {
     "name": "stdout",
     "output_type": "stream",
     "text": [
      "{'10_1': [36 annotations, 18 relations], '10_1010': [4 annotations, 2 relations], '10_1012': [52 annotations, 26 relations], '10_1014': [48 annotations, 24 relations], '10_1018': [92 annotations, 46 relations], '10_1037': [20 annotations, 10 relations], '10_1045': [108 annotations, 54 relations], '10_1048': [38 annotations, 19 relations], '10_124': [8 annotations, 4 relations], '10_133': [26 annotations, 13 relations]}\n"
     ]
    }
   ],
   "source": [
    "\n",
    "parser = TextAndBioCParser()\n",
    "#collection_info = parser.parse_file(path)\n",
    "\n",
    "docs = parser.read_texts_and_xmls(num_docs=10)\n",
    "print(docs)"
   ]
  },
  {
   "cell_type": "code",
   "execution_count": 305,
   "metadata": {},
   "outputs": [],
   "source": [
    "doc = docs['10_1']\n",
    "#doc.annotations"
   ]
  },
  {
   "cell_type": "code",
   "execution_count": 306,
   "metadata": {},
   "outputs": [
    {
     "data": {
      "text/plain": [
       "annotation.AnnotatedDocument"
      ]
     },
     "execution_count": 306,
     "metadata": {},
     "output_type": "execute_result"
    }
   ],
   "source": [
    "type(doc)"
   ]
  },
  {
   "cell_type": "code",
   "execution_count": 294,
   "metadata": {},
   "outputs": [
    {
     "name": "stdout",
     "output_type": "stream",
     "text": [
      "'bloating':'mild', SSLIF:Severity, type=severity_type\n"
     ]
    }
   ],
   "source": [
    "print(doc.relations[4])"
   ]
  },
  {
   "cell_type": "code",
   "execution_count": 291,
   "metadata": {},
   "outputs": [
    {
     "data": {
      "text/plain": [
       "'C:\\\\Users\\\\u0752374\\\\Box Sync\\\\NLP_Challenge\\\\MADE-1.0\\\\annotations\\\\10_1.bioc.xml'"
      ]
     },
     "execution_count": 291,
     "metadata": {},
     "output_type": "execute_result"
    }
   ],
   "source": [
    "filepath = os.path.join(parser.datadir, 'annotations', filename+'.bioc.xml')\n",
    "os.path.exists(filepath)\n",
    "filepath"
   ]
  },
  {
   "cell_type": "code",
   "execution_count": 126,
   "metadata": {},
   "outputs": [],
   "source": [
    "filepath = \"C:\\\\Users\\\\u0752374\\\\Box Sync\\\\NLP_Challenge\\\\MADE-1.0\\\\annotations\\\\10_1.bioc.xml\"\n",
    "assert os.path.exists(path)"
   ]
  },
  {
   "cell_type": "code",
   "execution_count": 127,
   "metadata": {},
   "outputs": [],
   "source": [
    "bioc_reader = bioc.BioCReader(filepath)"
   ]
  },
  {
   "cell_type": "code",
   "execution_count": 128,
   "metadata": {},
   "outputs": [],
   "source": [
    "bioc_reader.read()"
   ]
  },
  {
   "cell_type": "code",
   "execution_count": 129,
   "metadata": {},
   "outputs": [
    {
     "data": {
      "text/plain": [
       "<bioc.bioc_document.BioCDocument at 0x1d838170d68>"
      ]
     },
     "execution_count": 129,
     "metadata": {},
     "output_type": "execute_result"
    }
   ],
   "source": [
    "doc = bioc_reader.collection.documents[0]\n",
    "doc"
   ]
  },
  {
   "cell_type": "code",
   "execution_count": 130,
   "metadata": {},
   "outputs": [
    {
     "data": {
      "text/plain": [
       "<bioc.bioc_passage.BioCPassage at 0x1d838170e10>"
      ]
     },
     "execution_count": 130,
     "metadata": {},
     "output_type": "execute_result"
    }
   ],
   "source": [
    "passage = doc.passages[0]\n",
    "passage"
   ]
  },
  {
   "cell_type": "code",
   "execution_count": 132,
   "metadata": {},
   "outputs": [],
   "source": [
    "relat = passage.relations[0]"
   ]
  },
  {
   "cell_type": "code",
   "execution_count": 137,
   "metadata": {},
   "outputs": [],
   "source": [
    "node = relat.nodes[0]"
   ]
  },
  {
   "cell_type": "code",
   "execution_count": 145,
   "metadata": {},
   "outputs": [
    {
     "data": {
      "text/plain": [
       "'annotation 1'"
      ]
     },
     "execution_count": 145,
     "metadata": {},
     "output_type": "execute_result"
    }
   ],
   "source": [
    "node.role"
   ]
  },
  {
   "cell_type": "code",
   "execution_count": 201,
   "metadata": {},
   "outputs": [
    {
     "data": {
      "text/plain": [
       "'75'"
      ]
     },
     "execution_count": 201,
     "metadata": {},
     "output_type": "execute_result"
    }
   ],
   "source": [
    "anno.id"
   ]
  },
  {
   "cell_type": "code",
   "execution_count": 66,
   "metadata": {},
   "outputs": [
    {
     "data": {
      "text/plain": [
       "{'type': 'Drug'}"
      ]
     },
     "execution_count": 66,
     "metadata": {},
     "output_type": "execute_result"
    }
   ],
   "source": [
    "annos = passage.annotations\n",
    "anno = annos[0]\n",
    "anno.infons"
   ]
  },
  {
   "cell_type": "code",
   "execution_count": 73,
   "metadata": {},
   "outputs": [],
   "source": [
    "loc = anno.locations[0]"
   ]
  },
  {
   "cell_type": "code",
   "execution_count": 74,
   "metadata": {},
   "outputs": [
    {
     "data": {
      "text/plain": [
       "'11'"
      ]
     },
     "execution_count": 74,
     "metadata": {},
     "output_type": "execute_result"
    }
   ],
   "source": [
    "loc.length"
   ]
  },
  {
   "cell_type": "code",
   "execution_count": 75,
   "metadata": {},
   "outputs": [
    {
     "data": {
      "text/plain": [
       "'859'"
      ]
     },
     "execution_count": 75,
     "metadata": {},
     "output_type": "execute_result"
    }
   ],
   "source": [
    "loc.offset"
   ]
  },
  {
   "cell_type": "code",
   "execution_count": 76,
   "metadata": {},
   "outputs": [
    {
     "data": {
      "text/plain": [
       "'doxorubicin'"
      ]
     },
     "execution_count": 76,
     "metadata": {},
     "output_type": "execute_result"
    }
   ],
   "source": [
    "text[859: 859+11]"
   ]
  },
  {
   "cell_type": "code",
   "execution_count": 87,
   "metadata": {},
   "outputs": [],
   "source": [
    "entity = a.EntityAnnotation(anno)"
   ]
  },
  {
   "cell_type": "code",
   "execution_count": 88,
   "metadata": {},
   "outputs": [
    {
     "data": {
      "text/plain": [
       "[doxorubicin], 859:85911, type=[Drug]"
      ]
     },
     "execution_count": 88,
     "metadata": {},
     "output_type": "execute_result"
    }
   ],
   "source": [
    "entity"
   ]
  },
  {
   "cell_type": "code",
   "execution_count": 147,
   "metadata": {},
   "outputs": [
    {
     "data": {
      "text/plain": [
       "{'type': 'manner/route'}"
      ]
     },
     "execution_count": 147,
     "metadata": {},
     "output_type": "execute_result"
    }
   ],
   "source": [
    "relat."
   ]
  },
  {
   "cell_type": "code",
   "execution_count": 148,
   "metadata": {},
   "outputs": [
    {
     "data": {
      "text/plain": [
       "(0, 1, 2, 3)"
      ]
     },
     "execution_count": 148,
     "metadata": {},
     "output_type": "execute_result"
    }
   ],
   "source": [
    "(0, 1) + (2,3)"
   ]
  },
  {
   "cell_type": "code",
   "execution_count": 152,
   "metadata": {},
   "outputs": [],
   "source": [
    "node = relat.nodes[0]"
   ]
  },
  {
   "cell_type": "code",
   "execution_count": 154,
   "metadata": {},
   "outputs": [
    {
     "data": {
      "text/plain": [
       "'1'"
      ]
     },
     "execution_count": 154,
     "metadata": {},
     "output_type": "execute_result"
    }
   ],
   "source": [
    "node.refid"
   ]
  },
  {
   "cell_type": "code",
   "execution_count": 160,
   "metadata": {},
   "outputs": [],
   "source": [
    "riter = passage.relation_iterator"
   ]
  },
  {
   "cell_type": "code",
   "execution_count": 164,
   "metadata": {},
   "outputs": [
    {
     "data": {
      "text/plain": [
       "[<bioc.bioc_relation.BioCRelation at 0x1d8381832e8>,\n",
       " <bioc.bioc_relation.BioCRelation at 0x1d838183320>,\n",
       " <bioc.bioc_relation.BioCRelation at 0x1d8381833c8>,\n",
       " <bioc.bioc_relation.BioCRelation at 0x1d838183518>,\n",
       " <bioc.bioc_relation.BioCRelation at 0x1d838183668>,\n",
       " <bioc.bioc_relation.BioCRelation at 0x1d838183358>,\n",
       " <bioc.bioc_relation.BioCRelation at 0x1d838183908>,\n",
       " <bioc.bioc_relation.BioCRelation at 0x1d838183a90>,\n",
       " <bioc.bioc_relation.BioCRelation at 0x1d838183c18>,\n",
       " <bioc.bioc_relation.BioCRelation at 0x1d8382b16a0>,\n",
       " <bioc.bioc_relation.BioCRelation at 0x1d8381705f8>,\n",
       " <bioc.bioc_relation.BioCRelation at 0x1d838170c88>,\n",
       " <bioc.bioc_relation.BioCRelation at 0x1d838170a20>,\n",
       " <bioc.bioc_relation.BioCRelation at 0x1d8381709e8>,\n",
       " <bioc.bioc_relation.BioCRelation at 0x1d83814ce48>,\n",
       " <bioc.bioc_relation.BioCRelation at 0x1d8380b92b0>,\n",
       " <bioc.bioc_relation.BioCRelation at 0x1d8380b9390>,\n",
       " <bioc.bioc_relation.BioCRelation at 0x1d8380b9b00>]"
      ]
     },
     "execution_count": 164,
     "metadata": {},
     "output_type": "execute_result"
    }
   ],
   "source": [
    "passage.relations"
   ]
  },
  {
   "cell_type": "code",
   "execution_count": 166,
   "metadata": {},
   "outputs": [
    {
     "data": {
      "text/plain": [
       "[<bioc.bioc_node.BioCNode at 0x1d838183198>,\n",
       " <bioc.bioc_node.BioCNode at 0x1d838183390>]"
      ]
     },
     "execution_count": 166,
     "metadata": {},
     "output_type": "execute_result"
    }
   ],
   "source": [
    "relat.nodes"
   ]
  },
  {
   "cell_type": "code",
   "execution_count": 167,
   "metadata": {},
   "outputs": [
    {
     "data": {
      "text/plain": [
       "'annotation 1'"
      ]
     },
     "execution_count": 167,
     "metadata": {},
     "output_type": "execute_result"
    }
   ],
   "source": [
    "node.role\n"
   ]
  },
  {
   "cell_type": "code",
   "execution_count": 171,
   "metadata": {},
   "outputs": [],
   "source": [
    "g = []\n",
    "g += [1,2,]"
   ]
  },
  {
   "cell_type": "code",
   "execution_count": 172,
   "metadata": {},
   "outputs": [
    {
     "data": {
      "text/plain": [
       "[1, 2]"
      ]
     },
     "execution_count": 172,
     "metadata": {},
     "output_type": "execute_result"
    }
   ],
   "source": [
    "g"
   ]
  },
  {
   "cell_type": "code",
   "execution_count": 197,
   "metadata": {},
   "outputs": [
    {
     "data": {
      "text/plain": [
       "[<bioc.bioc_node.BioCNode at 0x1d838183198>,\n",
       " <bioc.bioc_node.BioCNode at 0x1d838183390>]"
      ]
     },
     "execution_count": 197,
     "metadata": {},
     "output_type": "execute_result"
    }
   ],
   "source": [
    "relat.nodes[0]"
   ]
  },
  {
   "cell_type": "code",
   "execution_count": 198,
   "metadata": {},
   "outputs": [
    {
     "data": {
      "text/plain": [
       "<bioc.bioc_node.BioCNode at 0x1d838183198>"
      ]
     },
     "execution_count": 198,
     "metadata": {},
     "output_type": "execute_result"
    }
   ],
   "source": [
    "node"
   ]
  },
  {
   "cell_type": "code",
   "execution_count": 200,
   "metadata": {},
   "outputs": [
    {
     "data": {
      "text/plain": [
       "'1'"
      ]
     },
     "execution_count": 200,
     "metadata": {},
     "output_type": "execute_result"
    }
   ],
   "source": [
    "node.refid"
   ]
  },
  {
   "cell_type": "code",
   "execution_count": null,
   "metadata": {},
   "outputs": [],
   "source": []
  }
 ],
 "metadata": {
  "kernelspec": {
   "display_name": "Python 3",
   "language": "python",
   "name": "python3"
  },
  "language_info": {
   "codemirror_mode": {
    "name": "ipython",
    "version": 3
   },
   "file_extension": ".py",
   "mimetype": "text/x-python",
   "name": "python",
   "nbconvert_exporter": "python",
   "pygments_lexer": "ipython3",
   "version": "3.6.4"
  }
 },
 "nbformat": 4,
 "nbformat_minor": 2
}
